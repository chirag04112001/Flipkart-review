{
 "cells": [
  {
   "cell_type": "code",
   "execution_count": 1,
   "id": "80bfd590",
   "metadata": {
    "_cell_guid": "b1076dfc-b9ad-4769-8c92-a6c4dae69d19",
    "_uuid": "8f2839f25d086af736a60e9eeb907d3b93b6e0e5",
    "execution": {
     "iopub.execute_input": "2023-10-12T07:26:55.122281Z",
     "iopub.status.busy": "2023-10-12T07:26:55.121891Z",
     "iopub.status.idle": "2023-10-12T07:26:58.129585Z",
     "shell.execute_reply": "2023-10-12T07:26:58.128274Z"
    },
    "papermill": {
     "duration": 3.018999,
     "end_time": "2023-10-12T07:26:58.132396",
     "exception": false,
     "start_time": "2023-10-12T07:26:55.113397",
     "status": "completed"
    },
    "tags": []
   },
   "outputs": [
    {
     "name": "stdout",
     "output_type": "stream",
     "text": [
      "/kaggle/input/amazon-fine-food-reviews/hashes.txt\n",
      "/kaggle/input/amazon-fine-food-reviews/Reviews.csv\n",
      "/kaggle/input/amazon-fine-food-reviews/database.sqlite\n",
      "/kaggle/input/flipkart-product-review-dataset/flipkart_product.csv\n"
     ]
    }
   ],
   "source": [
    "# This Python 3 environment comes with many helpful analytics libraries installed\n",
    "# It is defined by the kaggle/python Docker image: https://github.com/kaggle/docker-python\n",
    "# For example, here's several helpful packages to load\n",
    "\n",
    "import numpy as np # linear algebra\n",
    "import pandas as pd# data processing, CSV file I/O (e.g. pd.read_csv)\n",
    "import matplotlib.pyplot as plt #for creating various types of plots\n",
    "import seaborn as sns #high-level interface for creating plots with minimal code. \n",
    "\n",
    "plt.style.use('ggplot')\n",
    "\n",
    "import nltk\n",
    "import re\n",
    "\n",
    "# Input data files are available in the read-only \"../input/\" directory\n",
    "# For example, running this (by clicking run or pressing Shift+Enter) will list all files under the input directory\n",
    "\n",
    "import os\n",
    "for dirname, _, filenames in os.walk('/kaggle/input'):\n",
    "    for filename in filenames:\n",
    "        print(os.path.join(dirname, filename))\n",
    "\n",
    "# You can write up to 20GB to the current directory (/kaggle/working/) that gets preserved as output when you create a version using \"Save & Run All\" \n",
    "# You can also write temporary files to /kaggle/temp/, but they won't be saved outside of the current session"
   ]
  },
  {
   "cell_type": "markdown",
   "id": "cdfbac7c",
   "metadata": {
    "papermill": {
     "duration": 0.005653,
     "end_time": "2023-10-12T07:26:58.144364",
     "exception": false,
     "start_time": "2023-10-12T07:26:58.138711",
     "status": "completed"
    },
    "tags": []
   },
   "source": [
    "Loading file to python notebook"
   ]
  },
  {
   "cell_type": "code",
   "execution_count": 2,
   "id": "5a0251a9",
   "metadata": {
    "execution": {
     "iopub.execute_input": "2023-10-12T07:26:58.159324Z",
     "iopub.status.busy": "2023-10-12T07:26:58.158250Z",
     "iopub.status.idle": "2023-10-12T07:26:58.964658Z",
     "shell.execute_reply": "2023-10-12T07:26:58.963539Z"
    },
    "papermill": {
     "duration": 0.816606,
     "end_time": "2023-10-12T07:26:58.967068",
     "exception": false,
     "start_time": "2023-10-12T07:26:58.150462",
     "status": "completed"
    },
    "tags": []
   },
   "outputs": [],
   "source": [
    "df = pd.read_csv('/kaggle/input/flipkart-product-review-dataset/flipkart_product.csv', encoding=\"unicode_escape\")"
   ]
  },
  {
   "cell_type": "code",
   "execution_count": 3,
   "id": "27c0a7d8",
   "metadata": {
    "execution": {
     "iopub.execute_input": "2023-10-12T07:26:58.980620Z",
     "iopub.status.busy": "2023-10-12T07:26:58.980207Z",
     "iopub.status.idle": "2023-10-12T07:26:59.198992Z",
     "shell.execute_reply": "2023-10-12T07:26:59.197700Z"
    },
    "papermill": {
     "duration": 0.228097,
     "end_time": "2023-10-12T07:26:59.201341",
     "exception": false,
     "start_time": "2023-10-12T07:26:58.973244",
     "status": "completed"
    },
    "tags": []
   },
   "outputs": [
    {
     "data": {
      "text/html": [
       "<div>\n",
       "<style scoped>\n",
       "    .dataframe tbody tr th:only-of-type {\n",
       "        vertical-align: middle;\n",
       "    }\n",
       "\n",
       "    .dataframe tbody tr th {\n",
       "        vertical-align: top;\n",
       "    }\n",
       "\n",
       "    .dataframe thead th {\n",
       "        text-align: right;\n",
       "    }\n",
       "</style>\n",
       "<table border=\"1\" class=\"dataframe\">\n",
       "  <thead>\n",
       "    <tr style=\"text-align: right;\">\n",
       "      <th></th>\n",
       "      <th>ProductName</th>\n",
       "      <th>Price</th>\n",
       "      <th>Rate</th>\n",
       "      <th>Review</th>\n",
       "      <th>Summary</th>\n",
       "    </tr>\n",
       "  </thead>\n",
       "  <tbody>\n",
       "    <tr>\n",
       "      <th>count</th>\n",
       "      <td>189874</td>\n",
       "      <td>189873</td>\n",
       "      <td>189873</td>\n",
       "      <td>189870</td>\n",
       "      <td>189860</td>\n",
       "    </tr>\n",
       "    <tr>\n",
       "      <th>unique</th>\n",
       "      <td>812</td>\n",
       "      <td>561</td>\n",
       "      <td>9</td>\n",
       "      <td>1264</td>\n",
       "      <td>98343</td>\n",
       "    </tr>\n",
       "    <tr>\n",
       "      <th>top</th>\n",
       "      <td>MILTON Thermosteel Flip Lid 500 ml FlaskÂ Â (P...</td>\n",
       "      <td>â¹1,299</td>\n",
       "      <td>5</td>\n",
       "      <td>Nan</td>\n",
       "      <td>Good</td>\n",
       "    </tr>\n",
       "    <tr>\n",
       "      <th>freq</th>\n",
       "      <td>9278</td>\n",
       "      <td>10005</td>\n",
       "      <td>108694</td>\n",
       "      <td>20862</td>\n",
       "      <td>14175</td>\n",
       "    </tr>\n",
       "  </tbody>\n",
       "</table>\n",
       "</div>"
      ],
      "text/plain": [
       "                                              ProductName     Price    Rate  \\\n",
       "count                                              189874    189873  189873   \n",
       "unique                                                812       561       9   \n",
       "top     MILTON Thermosteel Flip Lid 500 ml FlaskÂ Â (P...  â¹1,299       5   \n",
       "freq                                                 9278     10005  108694   \n",
       "\n",
       "        Review Summary  \n",
       "count   189870  189860  \n",
       "unique    1264   98343  \n",
       "top        Nan    Good  \n",
       "freq     20862   14175  "
      ]
     },
     "execution_count": 3,
     "metadata": {},
     "output_type": "execute_result"
    }
   ],
   "source": [
    "df.describe()"
   ]
  },
  {
   "cell_type": "code",
   "execution_count": 4,
   "id": "c2dac60d",
   "metadata": {
    "execution": {
     "iopub.execute_input": "2023-10-12T07:26:59.216239Z",
     "iopub.status.busy": "2023-10-12T07:26:59.215686Z",
     "iopub.status.idle": "2023-10-12T07:26:59.240350Z",
     "shell.execute_reply": "2023-10-12T07:26:59.239230Z"
    },
    "papermill": {
     "duration": 0.03513,
     "end_time": "2023-10-12T07:26:59.242789",
     "exception": false,
     "start_time": "2023-10-12T07:26:59.207659",
     "status": "completed"
    },
    "tags": []
   },
   "outputs": [],
   "source": [
    "\n",
    "df = df.assign(Id=range(len(df)))"
   ]
  },
  {
   "cell_type": "code",
   "execution_count": 5,
   "id": "c7e66478",
   "metadata": {
    "execution": {
     "iopub.execute_input": "2023-10-12T07:26:59.256919Z",
     "iopub.status.busy": "2023-10-12T07:26:59.256541Z",
     "iopub.status.idle": "2023-10-12T07:26:59.333736Z",
     "shell.execute_reply": "2023-10-12T07:26:59.332679Z"
    },
    "papermill": {
     "duration": 0.087202,
     "end_time": "2023-10-12T07:26:59.336269",
     "exception": false,
     "start_time": "2023-10-12T07:26:59.249067",
     "status": "completed"
    },
    "tags": []
   },
   "outputs": [
    {
     "name": "stdout",
     "output_type": "stream",
     "text": [
      "<class 'pandas.core.frame.DataFrame'>\n",
      "RangeIndex: 189874 entries, 0 to 189873\n",
      "Data columns (total 6 columns):\n",
      " #   Column       Non-Null Count   Dtype \n",
      "---  ------       --------------   ----- \n",
      " 0   ProductName  189874 non-null  object\n",
      " 1   Price        189873 non-null  object\n",
      " 2   Rate         189873 non-null  object\n",
      " 3   Review       189870 non-null  object\n",
      " 4   Summary      189860 non-null  object\n",
      " 5   Id           189874 non-null  int64 \n",
      "dtypes: int64(1), object(5)\n",
      "memory usage: 8.7+ MB\n"
     ]
    }
   ],
   "source": [
    "df.info()"
   ]
  },
  {
   "cell_type": "code",
   "execution_count": 6,
   "id": "6010c3f6",
   "metadata": {
    "execution": {
     "iopub.execute_input": "2023-10-12T07:26:59.350737Z",
     "iopub.status.busy": "2023-10-12T07:26:59.350249Z",
     "iopub.status.idle": "2023-10-12T07:26:59.361282Z",
     "shell.execute_reply": "2023-10-12T07:26:59.360487Z"
    },
    "papermill": {
     "duration": 0.02069,
     "end_time": "2023-10-12T07:26:59.363367",
     "exception": false,
     "start_time": "2023-10-12T07:26:59.342677",
     "status": "completed"
    },
    "tags": []
   },
   "outputs": [
    {
     "data": {
      "text/html": [
       "<div>\n",
       "<style scoped>\n",
       "    .dataframe tbody tr th:only-of-type {\n",
       "        vertical-align: middle;\n",
       "    }\n",
       "\n",
       "    .dataframe tbody tr th {\n",
       "        vertical-align: top;\n",
       "    }\n",
       "\n",
       "    .dataframe thead th {\n",
       "        text-align: right;\n",
       "    }\n",
       "</style>\n",
       "<table border=\"1\" class=\"dataframe\">\n",
       "  <thead>\n",
       "    <tr style=\"text-align: right;\">\n",
       "      <th></th>\n",
       "      <th>ProductName</th>\n",
       "      <th>Price</th>\n",
       "      <th>Rate</th>\n",
       "      <th>Review</th>\n",
       "      <th>Summary</th>\n",
       "      <th>Id</th>\n",
       "    </tr>\n",
       "  </thead>\n",
       "  <tbody>\n",
       "    <tr>\n",
       "      <th>0</th>\n",
       "      <td>Candes 12 L Room/Personal Air Cooler?ÿ?ÿ(White...</td>\n",
       "      <td>??3,999</td>\n",
       "      <td>5</td>\n",
       "      <td>Super!</td>\n",
       "      <td>Great cooler.. excellent air flow and for this...</td>\n",
       "      <td>0</td>\n",
       "    </tr>\n",
       "    <tr>\n",
       "      <th>1</th>\n",
       "      <td>Candes 12 L Room/Personal Air Cooler?ÿ?ÿ(White...</td>\n",
       "      <td>??3,999</td>\n",
       "      <td>5</td>\n",
       "      <td>Awesome</td>\n",
       "      <td>Best budget 2 fit cooler. Nice cooling</td>\n",
       "      <td>1</td>\n",
       "    </tr>\n",
       "    <tr>\n",
       "      <th>2</th>\n",
       "      <td>Candes 12 L Room/Personal Air Cooler?ÿ?ÿ(White...</td>\n",
       "      <td>??3,999</td>\n",
       "      <td>3</td>\n",
       "      <td>Fair</td>\n",
       "      <td>The quality is good but the power of air is de...</td>\n",
       "      <td>2</td>\n",
       "    </tr>\n",
       "    <tr>\n",
       "      <th>3</th>\n",
       "      <td>Candes 12 L Room/Personal Air Cooler?ÿ?ÿ(White...</td>\n",
       "      <td>??3,999</td>\n",
       "      <td>1</td>\n",
       "      <td>Useless product</td>\n",
       "      <td>Very bad product it's a only a fan</td>\n",
       "      <td>3</td>\n",
       "    </tr>\n",
       "    <tr>\n",
       "      <th>4</th>\n",
       "      <td>Candes 12 L Room/Personal Air Cooler?ÿ?ÿ(White...</td>\n",
       "      <td>??3,999</td>\n",
       "      <td>3</td>\n",
       "      <td>Fair</td>\n",
       "      <td>Ok ok product</td>\n",
       "      <td>4</td>\n",
       "    </tr>\n",
       "  </tbody>\n",
       "</table>\n",
       "</div>"
      ],
      "text/plain": [
       "                                         ProductName     Price Rate  \\\n",
       "0  Candes 12 L Room/Personal Air Cooler?ÿ?ÿ(White...  ??3,999    5   \n",
       "1  Candes 12 L Room/Personal Air Cooler?ÿ?ÿ(White...  ??3,999    5   \n",
       "2  Candes 12 L Room/Personal Air Cooler?ÿ?ÿ(White...  ??3,999    3   \n",
       "3  Candes 12 L Room/Personal Air Cooler?ÿ?ÿ(White...  ??3,999    1   \n",
       "4  Candes 12 L Room/Personal Air Cooler?ÿ?ÿ(White...  ??3,999    3   \n",
       "\n",
       "            Review                                            Summary  Id  \n",
       "0           Super!  Great cooler.. excellent air flow and for this...   0  \n",
       "1          Awesome             Best budget 2 fit cooler. Nice cooling   1  \n",
       "2             Fair  The quality is good but the power of air is de...   2  \n",
       "3  Useless product                 Very bad product it's a only a fan   3  \n",
       "4             Fair                                      Ok ok product   4  "
      ]
     },
     "execution_count": 6,
     "metadata": {},
     "output_type": "execute_result"
    }
   ],
   "source": [
    "df.head()"
   ]
  },
  {
   "cell_type": "code",
   "execution_count": 7,
   "id": "399f8c0e",
   "metadata": {
    "execution": {
     "iopub.execute_input": "2023-10-12T07:26:59.379707Z",
     "iopub.status.busy": "2023-10-12T07:26:59.378697Z",
     "iopub.status.idle": "2023-10-12T07:26:59.447230Z",
     "shell.execute_reply": "2023-10-12T07:26:59.446438Z"
    },
    "papermill": {
     "duration": 0.079233,
     "end_time": "2023-10-12T07:26:59.449346",
     "exception": false,
     "start_time": "2023-10-12T07:26:59.370113",
     "status": "completed"
    },
    "tags": []
   },
   "outputs": [],
   "source": [
    "df.dropna(inplace=True)"
   ]
  },
  {
   "cell_type": "code",
   "execution_count": 8,
   "id": "77e277f7",
   "metadata": {
    "execution": {
     "iopub.execute_input": "2023-10-12T07:26:59.464201Z",
     "iopub.status.busy": "2023-10-12T07:26:59.463591Z",
     "iopub.status.idle": "2023-10-12T07:26:59.517033Z",
     "shell.execute_reply": "2023-10-12T07:26:59.515595Z"
    },
    "papermill": {
     "duration": 0.064057,
     "end_time": "2023-10-12T07:26:59.519763",
     "exception": false,
     "start_time": "2023-10-12T07:26:59.455706",
     "status": "completed"
    },
    "tags": []
   },
   "outputs": [
    {
     "data": {
      "text/plain": [
       "ProductName    0\n",
       "Price          0\n",
       "Rate           0\n",
       "Review         0\n",
       "Summary        0\n",
       "Id             0\n",
       "dtype: int64"
      ]
     },
     "execution_count": 8,
     "metadata": {},
     "output_type": "execute_result"
    }
   ],
   "source": [
    "df.isnull().sum()"
   ]
  },
  {
   "cell_type": "markdown",
   "id": "74e5b2e7",
   "metadata": {
    "papermill": {
     "duration": 0.006482,
     "end_time": "2023-10-12T07:26:59.533884",
     "exception": false,
     "start_time": "2023-10-12T07:26:59.527402",
     "status": "completed"
    },
    "tags": []
   },
   "source": [
    "It is imbalanced data but before to that lets pre-process text columns and remove noise"
   ]
  },
  {
   "cell_type": "code",
   "execution_count": 9,
   "id": "b062b7b2",
   "metadata": {
    "execution": {
     "iopub.execute_input": "2023-10-12T07:26:59.549372Z",
     "iopub.status.busy": "2023-10-12T07:26:59.548993Z",
     "iopub.status.idle": "2023-10-12T07:26:59.553950Z",
     "shell.execute_reply": "2023-10-12T07:26:59.553005Z"
    },
    "papermill": {
     "duration": 0.015563,
     "end_time": "2023-10-12T07:26:59.556037",
     "exception": false,
     "start_time": "2023-10-12T07:26:59.540474",
     "status": "completed"
    },
    "tags": []
   },
   "outputs": [],
   "source": [
    "def preprocess(row):\n",
    "    row=re.sub('[^a-zA-Z0-9]', ' ', row)\n",
    "    row= re.sub('\\s+', ' ', row)\n",
    "    return row"
   ]
  },
  {
   "cell_type": "markdown",
   "id": "5b42cc5f",
   "metadata": {
    "papermill": {
     "duration": 0.006541,
     "end_time": "2023-10-12T07:26:59.569915",
     "exception": false,
     "start_time": "2023-10-12T07:26:59.563374",
     "status": "completed"
    },
    "tags": []
   },
   "source": [
    "Drop Price Column"
   ]
  },
  {
   "cell_type": "code",
   "execution_count": 10,
   "id": "07e2efbf",
   "metadata": {
    "execution": {
     "iopub.execute_input": "2023-10-12T07:26:59.586714Z",
     "iopub.status.busy": "2023-10-12T07:26:59.585462Z",
     "iopub.status.idle": "2023-10-12T07:27:03.993750Z",
     "shell.execute_reply": "2023-10-12T07:27:03.992503Z"
    },
    "papermill": {
     "duration": 4.419601,
     "end_time": "2023-10-12T07:27:03.996287",
     "exception": false,
     "start_time": "2023-10-12T07:26:59.576686",
     "status": "completed"
    },
    "tags": []
   },
   "outputs": [],
   "source": [
    "df['Review']=df['Review'].apply(lambda x: preprocess(x))\n",
    "df['Summary']=df['Summary'].apply(lambda x: preprocess(x))\n",
    "df['ProductName']=df['ProductName'].apply(lambda x: preprocess(x))\n",
    "df.drop(['Price'],axis=1,inplace=True)"
   ]
  },
  {
   "cell_type": "markdown",
   "id": "57c46ecf",
   "metadata": {
    "papermill": {
     "duration": 0.006676,
     "end_time": "2023-10-12T07:27:04.009440",
     "exception": false,
     "start_time": "2023-10-12T07:27:04.002764",
     "status": "completed"
    },
    "tags": []
   },
   "source": [
    "Cleaning Rate column to make a bar plot "
   ]
  },
  {
   "cell_type": "code",
   "execution_count": 11,
   "id": "a2e8d0af",
   "metadata": {
    "execution": {
     "iopub.execute_input": "2023-10-12T07:27:04.024652Z",
     "iopub.status.busy": "2023-10-12T07:27:04.024314Z",
     "iopub.status.idle": "2023-10-12T07:27:04.136744Z",
     "shell.execute_reply": "2023-10-12T07:27:04.135704Z"
    },
    "papermill": {
     "duration": 0.122432,
     "end_time": "2023-10-12T07:27:04.138976",
     "exception": false,
     "start_time": "2023-10-12T07:27:04.016544",
     "status": "completed"
    },
    "tags": []
   },
   "outputs": [
    {
     "data": {
      "text/plain": [
       "Rate\n",
       "5    108684\n",
       "4     39649\n",
       "1     19607\n",
       "3     15680\n",
       "2      6233\n",
       "Name: count, dtype: int64"
      ]
     },
     "execution_count": 11,
     "metadata": {},
     "output_type": "execute_result"
    }
   ],
   "source": [
    "df=df[(df['Rate'] == '5') | (df['Rate'] == '4') | (df['Rate'] == '3') | (df['Rate'] == '2') | (df['Rate'] == '1') ]\n",
    "\n",
    "df['Rate'].value_counts()"
   ]
  },
  {
   "cell_type": "code",
   "execution_count": 12,
   "id": "aa669a6f",
   "metadata": {
    "execution": {
     "iopub.execute_input": "2023-10-12T07:27:04.153994Z",
     "iopub.status.busy": "2023-10-12T07:27:04.153636Z",
     "iopub.status.idle": "2023-10-12T07:27:04.444785Z",
     "shell.execute_reply": "2023-10-12T07:27:04.443590Z"
    },
    "papermill": {
     "duration": 0.301549,
     "end_time": "2023-10-12T07:27:04.447150",
     "exception": false,
     "start_time": "2023-10-12T07:27:04.145601",
     "status": "completed"
    },
    "tags": []
   },
   "outputs": [
    {
     "data": {
      "image/png": "[encoded data removed]",
      "text/plain": [
       "<Figure size 1000x500 with 1 Axes>"
      ]
     },
     "metadata": {},
     "output_type": "display_data"
    }
   ],
   "source": [
    "ax = df['Rate'].value_counts().sort_index() \\\n",
    "    .plot(kind='bar',\n",
    "          title='Count of Reviews by Stars',\n",
    "          figsize=(10, 5))\n",
    "ax.set_xlabel('Review Stars')\n",
    "plt.show()"
   ]
  },
  {
   "cell_type": "markdown",
   "id": "a9606fd1",
   "metadata": {
    "papermill": {
     "duration": 0.006599,
     "end_time": "2023-10-12T07:27:04.460719",
     "exception": false,
     "start_time": "2023-10-12T07:27:04.454120",
     "status": "completed"
    },
    "tags": []
   },
   "source": [
    "working with an example "
   ]
  },
  {
   "cell_type": "code",
   "execution_count": 13,
   "id": "45f0a00f",
   "metadata": {
    "execution": {
     "iopub.execute_input": "2023-10-12T07:27:04.476477Z",
     "iopub.status.busy": "2023-10-12T07:27:04.476102Z",
     "iopub.status.idle": "2023-10-12T07:27:04.485797Z",
     "shell.execute_reply": "2023-10-12T07:27:04.484703Z"
    },
    "papermill": {
     "duration": 0.019854,
     "end_time": "2023-10-12T07:27:04.487813",
     "exception": false,
     "start_time": "2023-10-12T07:27:04.467959",
     "status": "completed"
    },
    "tags": []
   },
   "outputs": [
    {
     "name": "stdout",
     "output_type": "stream",
     "text": [
      "feedback given after using one week the cooler is amazing it s making the whole room cooling you should install the cooler near to your windows the delivery was on time as well the delivery boy also very supportive\n"
     ]
    }
   ],
   "source": [
    "example = df['Summary'][42]\n",
    "print(example)"
   ]
  },
  {
   "cell_type": "markdown",
   "id": "84abfcc4",
   "metadata": {
    "papermill": {
     "duration": 0.007378,
     "end_time": "2023-10-12T07:27:04.502456",
     "exception": false,
     "start_time": "2023-10-12T07:27:04.495078",
     "status": "completed"
    },
    "tags": []
   },
   "source": [
    "using nltk word tokenizer to break sentences to individual tokens "
   ]
  },
  {
   "cell_type": "code",
   "execution_count": 14,
   "id": "c6c55a93",
   "metadata": {
    "execution": {
     "iopub.execute_input": "2023-10-12T07:27:04.518921Z",
     "iopub.status.busy": "2023-10-12T07:27:04.518516Z",
     "iopub.status.idle": "2023-10-12T07:27:04.539912Z",
     "shell.execute_reply": "2023-10-12T07:27:04.538867Z"
    },
    "papermill": {
     "duration": 0.032412,
     "end_time": "2023-10-12T07:27:04.542199",
     "exception": false,
     "start_time": "2023-10-12T07:27:04.509787",
     "status": "completed"
    },
    "tags": []
   },
   "outputs": [
    {
     "data": {
      "text/plain": [
       "['feedback',\n",
       " 'given',\n",
       " 'after',\n",
       " 'using',\n",
       " 'one',\n",
       " 'week',\n",
       " 'the',\n",
       " 'cooler',\n",
       " 'is',\n",
       " 'amazing',\n",
       " 'it',\n",
       " 's',\n",
       " 'making',\n",
       " 'the',\n",
       " 'whole',\n",
       " 'room',\n",
       " 'cooling',\n",
       " 'you',\n",
       " 'should',\n",
       " 'install',\n",
       " 'the',\n",
       " 'cooler',\n",
       " 'near',\n",
       " 'to',\n",
       " 'your',\n",
       " 'windows',\n",
       " 'the',\n",
       " 'delivery',\n",
       " 'was',\n",
       " 'on',\n",
       " 'time',\n",
       " 'as',\n",
       " 'well',\n",
       " 'the',\n",
       " 'delivery',\n",
       " 'boy',\n",
       " 'also',\n",
       " 'very',\n",
       " 'supportive']"
      ]
     },
     "execution_count": 14,
     "metadata": {},
     "output_type": "execute_result"
    }
   ],
   "source": [
    "tokens = nltk.word_tokenize(example)\n",
    "tokens"
   ]
  },
  {
   "cell_type": "markdown",
   "id": "2b8d956d",
   "metadata": {
    "papermill": {
     "duration": 0.006803,
     "end_time": "2023-10-12T07:27:04.556335",
     "exception": false,
     "start_time": "2023-10-12T07:27:04.549532",
     "status": "completed"
    },
    "tags": []
   },
   "source": [
    "Classify the tokens into noun adjective and soo on"
   ]
  },
  {
   "cell_type": "code",
   "execution_count": 15,
   "id": "a77752f6",
   "metadata": {
    "execution": {
     "iopub.execute_input": "2023-10-12T07:27:04.572369Z",
     "iopub.status.busy": "2023-10-12T07:27:04.571974Z",
     "iopub.status.idle": "2023-10-12T07:27:04.708162Z",
     "shell.execute_reply": "2023-10-12T07:27:04.707020Z"
    },
    "papermill": {
     "duration": 0.14683,
     "end_time": "2023-10-12T07:27:04.710285",
     "exception": false,
     "start_time": "2023-10-12T07:27:04.563455",
     "status": "completed"
    },
    "tags": []
   },
   "outputs": [
    {
     "data": {
      "text/plain": [
       "[('feedback', 'NN'),\n",
       " ('given', 'VBN'),\n",
       " ('after', 'IN'),\n",
       " ('using', 'VBG'),\n",
       " ('one', 'CD'),\n",
       " ('week', 'NN'),\n",
       " ('the', 'DT'),\n",
       " ('cooler', 'NN'),\n",
       " ('is', 'VBZ'),\n",
       " ('amazing', 'VBG'),\n",
       " ('it', 'PRP'),\n",
       " ('s', 'JJ'),\n",
       " ('making', 'VBG'),\n",
       " ('the', 'DT'),\n",
       " ('whole', 'JJ'),\n",
       " ('room', 'NN'),\n",
       " ('cooling', 'VBG'),\n",
       " ('you', 'PRP'),\n",
       " ('should', 'MD'),\n",
       " ('install', 'VB'),\n",
       " ('the', 'DT'),\n",
       " ('cooler', 'NN'),\n",
       " ('near', 'IN'),\n",
       " ('to', 'TO'),\n",
       " ('your', 'PRP$'),\n",
       " ('windows', 'NNS'),\n",
       " ('the', 'DT'),\n",
       " ('delivery', 'NN'),\n",
       " ('was', 'VBD'),\n",
       " ('on', 'IN'),\n",
       " ('time', 'NN'),\n",
       " ('as', 'IN'),\n",
       " ('well', 'RB'),\n",
       " ('the', 'DT'),\n",
       " ('delivery', 'NN'),\n",
       " ('boy', 'NN'),\n",
       " ('also', 'RB'),\n",
       " ('very', 'RB'),\n",
       " ('supportive', 'JJ')]"
      ]
     },
     "execution_count": 15,
     "metadata": {},
     "output_type": "execute_result"
    }
   ],
   "source": [
    "tagged = nltk.pos_tag(tokens)\n",
    "tagged"
   ]
  },
  {
   "cell_type": "code",
   "execution_count": 16,
   "id": "5f5c230f",
   "metadata": {
    "execution": {
     "iopub.execute_input": "2023-10-12T07:27:04.726886Z",
     "iopub.status.busy": "2023-10-12T07:27:04.726556Z",
     "iopub.status.idle": "2023-10-12T07:27:04.871907Z",
     "shell.execute_reply": "2023-10-12T07:27:04.871040Z"
    },
    "papermill": {
     "duration": 0.155884,
     "end_time": "2023-10-12T07:27:04.873825",
     "exception": false,
     "start_time": "2023-10-12T07:27:04.717941",
     "status": "completed"
    },
    "tags": []
   },
   "outputs": [
    {
     "name": "stdout",
     "output_type": "stream",
     "text": [
      "(S\n",
      "  feedback/NN\n",
      "  given/VBN\n",
      "  after/IN\n",
      "  using/VBG\n",
      "  one/CD\n",
      "  week/NN\n",
      "  the/DT\n",
      "  cooler/NN\n",
      "  is/VBZ\n",
      "  amazing/VBG\n",
      "  it/PRP\n",
      "  s/JJ\n",
      "  making/VBG\n",
      "  the/DT\n",
      "  whole/JJ\n",
      "  room/NN\n",
      "  cooling/VBG\n",
      "  you/PRP\n",
      "  should/MD\n",
      "  install/VB\n",
      "  the/DT\n",
      "  cooler/NN\n",
      "  near/IN\n",
      "  to/TO\n",
      "  your/PRP$\n",
      "  windows/NNS\n",
      "  the/DT\n",
      "  delivery/NN\n",
      "  was/VBD\n",
      "  on/IN\n",
      "  time/NN\n",
      "  as/IN\n",
      "  well/RB\n",
      "  the/DT\n",
      "  delivery/NN\n",
      "  boy/NN\n",
      "  also/RB\n",
      "  very/RB\n",
      "  supportive/JJ)\n"
     ]
    }
   ],
   "source": [
    "entities = nltk.chunk.ne_chunk(tagged)\n",
    "entities.pprint()"
   ]
  },
  {
   "cell_type": "code",
   "execution_count": 17,
   "id": "27e87d80",
   "metadata": {
    "execution": {
     "iopub.execute_input": "2023-10-12T07:27:04.891103Z",
     "iopub.status.busy": "2023-10-12T07:27:04.890702Z",
     "iopub.status.idle": "2023-10-12T07:27:04.932012Z",
     "shell.execute_reply": "2023-10-12T07:27:04.931054Z"
    },
    "papermill": {
     "duration": 0.052781,
     "end_time": "2023-10-12T07:27:04.934110",
     "exception": false,
     "start_time": "2023-10-12T07:27:04.881329",
     "status": "completed"
    },
    "tags": []
   },
   "outputs": [
    {
     "name": "stderr",
     "output_type": "stream",
     "text": [
      "/opt/conda/lib/python3.10/site-packages/nltk/twitter/__init__.py:20: UserWarning: The twython library has not been installed. Some functionality from the twitter package will not be available.\n",
      "  warnings.warn(\"The twython library has not been installed. \"\n"
     ]
    }
   ],
   "source": [
    "from nltk.sentiment import SentimentIntensityAnalyzer\n",
    "from tqdm.notebook import tqdm\n",
    "\n",
    "sia = SentimentIntensityAnalyzer()"
   ]
  },
  {
   "cell_type": "code",
   "execution_count": 18,
   "id": "407f3465",
   "metadata": {
    "execution": {
     "iopub.execute_input": "2023-10-12T07:27:04.950985Z",
     "iopub.status.busy": "2023-10-12T07:27:04.950611Z",
     "iopub.status.idle": "2023-10-12T07:27:04.957712Z",
     "shell.execute_reply": "2023-10-12T07:27:04.956829Z"
    },
    "papermill": {
     "duration": 0.017951,
     "end_time": "2023-10-12T07:27:04.959522",
     "exception": false,
     "start_time": "2023-10-12T07:27:04.941571",
     "status": "completed"
    },
    "tags": []
   },
   "outputs": [
    {
     "data": {
      "text/plain": [
       "{'neg': 0.0, 'neu': 0.318, 'pos': 0.682, 'compound': 0.6468}"
      ]
     },
     "execution_count": 18,
     "metadata": {},
     "output_type": "execute_result"
    }
   ],
   "source": [
    "sia.polarity_scores('I am so happy!')"
   ]
  },
  {
   "cell_type": "code",
   "execution_count": 19,
   "id": "f0cb2d58",
   "metadata": {
    "execution": {
     "iopub.execute_input": "2023-10-12T07:27:04.976190Z",
     "iopub.status.busy": "2023-10-12T07:27:04.975834Z",
     "iopub.status.idle": "2023-10-12T07:27:04.982269Z",
     "shell.execute_reply": "2023-10-12T07:27:04.981066Z"
    },
    "papermill": {
     "duration": 0.017145,
     "end_time": "2023-10-12T07:27:04.984141",
     "exception": false,
     "start_time": "2023-10-12T07:27:04.966996",
     "status": "completed"
    },
    "tags": []
   },
   "outputs": [
    {
     "name": "stdout",
     "output_type": "stream",
     "text": [
      "{'neg': 0.0, 'neu': 0.807, 'pos': 0.193, 'compound': 0.8122}\n"
     ]
    }
   ],
   "source": [
    "print(sia.polarity_scores(example))"
   ]
  },
  {
   "cell_type": "markdown",
   "id": "6054bd79",
   "metadata": {
    "papermill": {
     "duration": 0.007364,
     "end_time": "2023-10-12T07:27:04.999232",
     "exception": false,
     "start_time": "2023-10-12T07:27:04.991868",
     "status": "completed"
    },
    "tags": []
   },
   "source": [
    "running the sia for the complete dataset and making a dict. res{} storing polarity scores and Id"
   ]
  },
  {
   "cell_type": "code",
   "execution_count": 20,
   "id": "3f9023aa",
   "metadata": {
    "execution": {
     "iopub.execute_input": "2023-10-12T07:27:05.016414Z",
     "iopub.status.busy": "2023-10-12T07:27:05.015801Z",
     "iopub.status.idle": "2023-10-12T07:27:44.947427Z",
     "shell.execute_reply": "2023-10-12T07:27:44.946247Z"
    },
    "papermill": {
     "duration": 39.942959,
     "end_time": "2023-10-12T07:27:44.949702",
     "exception": false,
     "start_time": "2023-10-12T07:27:05.006743",
     "status": "completed"
    },
    "tags": []
   },
   "outputs": [
    {
     "data": {
      "application/vnd.jupyter.widget-view+json": {
       "model_id": "04cf9b700a4747ada9e0a07d2c3652f9",
       "version_major": 2,
       "version_minor": 0
      },
      "text/plain": [
       "  0%|          | 0/189853 [00:00<?, ?it/s]"
      ]
     },
     "metadata": {},
     "output_type": "display_data"
    }
   ],
   "source": [
    "res = {}\n",
    "for i, row in tqdm(df.iterrows(), total=len(df)):\n",
    "    text = row['Summary']\n",
    "    myid = row['Id']\n",
    "    res[myid] = sia.polarity_scores(text)"
   ]
  },
  {
   "cell_type": "markdown",
   "id": "33757e18",
   "metadata": {
    "papermill": {
     "duration": 0.008279,
     "end_time": "2023-10-12T07:27:44.966148",
     "exception": false,
     "start_time": "2023-10-12T07:27:44.957869",
     "status": "completed"
    },
    "tags": []
   },
   "source": [
    "Converting a dictionary to a dataset and left joining both the dataset"
   ]
  },
  {
   "cell_type": "code",
   "execution_count": 21,
   "id": "f1833456",
   "metadata": {
    "execution": {
     "iopub.execute_input": "2023-10-12T07:27:44.984509Z",
     "iopub.status.busy": "2023-10-12T07:27:44.983845Z",
     "iopub.status.idle": "2023-10-12T07:27:48.842693Z",
     "shell.execute_reply": "2023-10-12T07:27:48.841635Z"
    },
    "papermill": {
     "duration": 3.870695,
     "end_time": "2023-10-12T07:27:48.845353",
     "exception": false,
     "start_time": "2023-10-12T07:27:44.974658",
     "status": "completed"
    },
    "tags": []
   },
   "outputs": [],
   "source": [
    "vaders = pd.DataFrame(res).T\n",
    "vaders = vaders.reset_index().rename(columns={'index': 'Id'})\n",
    "vaders = vaders.merge(df, how='left')"
   ]
  },
  {
   "cell_type": "code",
   "execution_count": 22,
   "id": "2ce10dc6",
   "metadata": {
    "execution": {
     "iopub.execute_input": "2023-10-12T07:27:48.924213Z",
     "iopub.status.busy": "2023-10-12T07:27:48.923836Z",
     "iopub.status.idle": "2023-10-12T07:27:48.939742Z",
     "shell.execute_reply": "2023-10-12T07:27:48.938682Z"
    },
    "papermill": {
     "duration": 0.028248,
     "end_time": "2023-10-12T07:27:48.941624",
     "exception": false,
     "start_time": "2023-10-12T07:27:48.913376",
     "status": "completed"
    },
    "tags": []
   },
   "outputs": [
    {
     "data": {
      "text/html": [
       "<div>\n",
       "<style scoped>\n",
       "    .dataframe tbody tr th:only-of-type {\n",
       "        vertical-align: middle;\n",
       "    }\n",
       "\n",
       "    .dataframe tbody tr th {\n",
       "        vertical-align: top;\n",
       "    }\n",
       "\n",
       "    .dataframe thead th {\n",
       "        text-align: right;\n",
       "    }\n",
       "</style>\n",
       "<table border=\"1\" class=\"dataframe\">\n",
       "  <thead>\n",
       "    <tr style=\"text-align: right;\">\n",
       "      <th></th>\n",
       "      <th>Id</th>\n",
       "      <th>neg</th>\n",
       "      <th>neu</th>\n",
       "      <th>pos</th>\n",
       "      <th>compound</th>\n",
       "      <th>ProductName</th>\n",
       "      <th>Rate</th>\n",
       "      <th>Review</th>\n",
       "      <th>Summary</th>\n",
       "    </tr>\n",
       "  </thead>\n",
       "  <tbody>\n",
       "    <tr>\n",
       "      <th>0</th>\n",
       "      <td>0</td>\n",
       "      <td>0.000</td>\n",
       "      <td>0.388</td>\n",
       "      <td>0.612</td>\n",
       "      <td>0.9635</td>\n",
       "      <td>Candes 12 L Room Personal Air Cooler White Bla...</td>\n",
       "      <td>5</td>\n",
       "      <td>Super</td>\n",
       "      <td>Great cooler excellent air flow and for this p...</td>\n",
       "    </tr>\n",
       "    <tr>\n",
       "      <th>1</th>\n",
       "      <td>1</td>\n",
       "      <td>0.000</td>\n",
       "      <td>0.240</td>\n",
       "      <td>0.760</td>\n",
       "      <td>0.8591</td>\n",
       "      <td>Candes 12 L Room Personal Air Cooler White Bla...</td>\n",
       "      <td>5</td>\n",
       "      <td>Awesome</td>\n",
       "      <td>Best budget 2 fit cooler Nice cooling</td>\n",
       "    </tr>\n",
       "    <tr>\n",
       "      <th>2</th>\n",
       "      <td>2</td>\n",
       "      <td>0.000</td>\n",
       "      <td>0.837</td>\n",
       "      <td>0.163</td>\n",
       "      <td>0.2382</td>\n",
       "      <td>Candes 12 L Room Personal Air Cooler White Bla...</td>\n",
       "      <td>3</td>\n",
       "      <td>Fair</td>\n",
       "      <td>The quality is good but the power of air is de...</td>\n",
       "    </tr>\n",
       "    <tr>\n",
       "      <th>3</th>\n",
       "      <td>3</td>\n",
       "      <td>0.376</td>\n",
       "      <td>0.396</td>\n",
       "      <td>0.228</td>\n",
       "      <td>-0.3597</td>\n",
       "      <td>Candes 12 L Room Personal Air Cooler White Bla...</td>\n",
       "      <td>1</td>\n",
       "      <td>Useless product</td>\n",
       "      <td>Very bad product it s a only a fan</td>\n",
       "    </tr>\n",
       "    <tr>\n",
       "      <th>4</th>\n",
       "      <td>4</td>\n",
       "      <td>0.000</td>\n",
       "      <td>0.185</td>\n",
       "      <td>0.815</td>\n",
       "      <td>0.5267</td>\n",
       "      <td>Candes 12 L Room Personal Air Cooler White Bla...</td>\n",
       "      <td>3</td>\n",
       "      <td>Fair</td>\n",
       "      <td>Ok ok product</td>\n",
       "    </tr>\n",
       "  </tbody>\n",
       "</table>\n",
       "</div>"
      ],
      "text/plain": [
       "   Id    neg    neu    pos  compound  \\\n",
       "0   0  0.000  0.388  0.612    0.9635   \n",
       "1   1  0.000  0.240  0.760    0.8591   \n",
       "2   2  0.000  0.837  0.163    0.2382   \n",
       "3   3  0.376  0.396  0.228   -0.3597   \n",
       "4   4  0.000  0.185  0.815    0.5267   \n",
       "\n",
       "                                         ProductName Rate           Review  \\\n",
       "0  Candes 12 L Room Personal Air Cooler White Bla...    5           Super    \n",
       "1  Candes 12 L Room Personal Air Cooler White Bla...    5          Awesome   \n",
       "2  Candes 12 L Room Personal Air Cooler White Bla...    3             Fair   \n",
       "3  Candes 12 L Room Personal Air Cooler White Bla...    1  Useless product   \n",
       "4  Candes 12 L Room Personal Air Cooler White Bla...    3             Fair   \n",
       "\n",
       "                                             Summary  \n",
       "0  Great cooler excellent air flow and for this p...  \n",
       "1              Best budget 2 fit cooler Nice cooling  \n",
       "2  The quality is good but the power of air is de...  \n",
       "3                 Very bad product it s a only a fan  \n",
       "4                                      Ok ok product  "
      ]
     },
     "execution_count": 22,
     "metadata": {},
     "output_type": "execute_result"
    }
   ],
   "source": [
    "vaders.head()"
   ]
  },
  {
   "cell_type": "code",
   "execution_count": null,
   "id": "468ab5f2",
   "metadata": {
    "papermill": {
     "duration": 0.007752,
     "end_time": "2023-10-12T07:27:48.957615",
     "exception": false,
     "start_time": "2023-10-12T07:27:48.949863",
     "status": "completed"
    },
    "tags": []
   },
   "outputs": [],
   "source": []
  },
  {
   "cell_type": "code",
   "execution_count": null,
   "id": "0adc860f",
   "metadata": {
    "papermill": {
     "duration": 0.007623,
     "end_time": "2023-10-12T07:27:48.973219",
     "exception": false,
     "start_time": "2023-10-12T07:27:48.965596",
     "status": "completed"
    },
    "tags": []
   },
   "outputs": [],
   "source": []
  }
 ],
 "metadata": {
  "kernelspec": {
   "display_name": "Python 3",
   "language": "python",
   "name": "python3"
  },
  "language_info": {
   "codemirror_mode": {
    "name": "ipython",
    "version": 3
   },
   "file_extension": ".py",
   "mimetype": "text/x-python",
   "name": "python",
   "nbconvert_exporter": "python",
   "pygments_lexer": "ipython3",
   "version": "3.10.12"
  },
  "papermill": {
   "default_parameters": {},
   "duration": 57.987267,
   "end_time": "2023-10-12T07:27:49.804553",
   "environment_variables": {},
   "exception": null,
   "input_path": "__notebook__.ipynb",
   "output_path": "__notebook__.ipynb",
   "parameters": {},
   "start_time": "2023-10-12T07:26:51.817286",
   "version": "2.4.0"
  },
  "widgets": {
   "application/vnd.jupyter.widget-state+json": {
    "state": {
     "012715959852400ca415bd47e73ca3fd": {
      "model_module": "@jupyter-widgets/controls",
      "model_module_version": "1.5.0",
      "model_name": "ProgressStyleModel",
      "state": {
       "_model_module": "@jupyter-widgets/controls",
       "_model_module_version": "1.5.0",
       "_model_name": "ProgressStyleModel",
       "_view_count": null,
       "_view_module": "@jupyter-widgets/base",
       "_view_module_version": "1.2.0",
       "_view_name": "StyleView",
       "bar_color": null,
       "description_width": ""
      }
     },
     "04cf9b700a4747ada9e0a07d2c3652f9": {
      "model_module": "@jupyter-widgets/controls",
      "model_module_version": "1.5.0",
      "model_name": "HBoxModel",
      "state": {
       "_dom_classes": [],
       "_model_module": "@jupyter-widgets/controls",
       "_model_module_version": "1.5.0",
       "_model_name": "HBoxModel",
       "_view_count": null,
       "_view_module": "@jupyter-widgets/controls",
       "_view_module_version": "1.5.0",
       "_view_name": "HBoxView",
       "box_style": "",
       "children": [
        "IPY_MODEL_4059bb14eb9b4bf9962053d712525da8",
        "IPY_MODEL_377c92d79a094f1ca9940f5a9497611a",
        "IPY_MODEL_2e3aaf91851045a38d136473460c23b3"
       ],
       "layout": "IPY_MODEL_1da45402392a4e46acf451f4aadc7105"
      }
     },
     "17fff72db5fd40f4b7f5e1c83f0da220": {
      "model_module": "@jupyter-widgets/base",
      "model_module_version": "1.2.0",
      "model_name": "LayoutModel",
      "state": {
       "_model_module": "@jupyter-widgets/base",
       "_model_module_version": "1.2.0",
       "_model_name": "LayoutModel",
       "_view_count": null,
       "_view_module": "@jupyter-widgets/base",
       "_view_module_version": "1.2.0",
       "_view_name": "LayoutView",
       "align_content": null,
       "align_items": null,
       "align_self": null,
       "border": null,
       "bottom": null,
       "display": null,
       "flex": null,
       "flex_flow": null,
       "grid_area": null,
       "grid_auto_columns": null,
       "grid_auto_flow": null,
       "grid_auto_rows": null,
       "grid_column": null,
       "grid_gap": null,
       "grid_row": null,
       "grid_template_areas": null,
       "grid_template_columns": null,
       "grid_template_rows": null,
       "height": null,
       "justify_content": null,
       "justify_items": null,
       "left": null,
       "margin": null,
       "max_height": null,
       "max_width": null,
       "min_height": null,
       "min_width": null,
       "object_fit": null,
       "object_position": null,
       "order": null,
       "overflow": null,
       "overflow_x": null,
       "overflow_y": null,
       "padding": null,
       "right": null,
       "top": null,
       "visibility": null,
       "width": null
      }
     },
     "1da45402392a4e46acf451f4aadc7105": {
      "model_module": "@jupyter-widgets/base",
      "model_module_version": "1.2.0",
      "model_name": "LayoutModel",
      "state": {
       "_model_module": "@jupyter-widgets/base",
       "_model_module_version": "1.2.0",
       "_model_name": "LayoutModel",
       "_view_count": null,
       "_view_module": "@jupyter-widgets/base",
       "_view_module_version": "1.2.0",
       "_view_name": "LayoutView",
       "align_content": null,
       "align_items": null,
       "align_self": null,
       "border": null,
       "bottom": null,
       "display": null,
       "flex": null,
       "flex_flow": null,
       "grid_area": null,
       "grid_auto_columns": null,
       "grid_auto_flow": null,
       "grid_auto_rows": null,
       "grid_column": null,
       "grid_gap": null,
       "grid_row": null,
       "grid_template_areas": null,
       "grid_template_columns": null,
       "grid_template_rows": null,
       "height": null,
       "justify_content": null,
       "justify_items": null,
       "left": null,
       "margin": null,
       "max_height": null,
       "max_width": null,
       "min_height": null,
       "min_width": null,
       "object_fit": null,
       "object_position": null,
       "order": null,
       "overflow": null,
       "overflow_x": null,
       "overflow_y": null,
       "padding": null,
       "right": null,
       "top": null,
       "visibility": null,
       "width": null
      }
     },
     "2e3aaf91851045a38d136473460c23b3": {
      "model_module": "@jupyter-widgets/controls",
      "model_module_version": "1.5.0",
      "model_name": "HTMLModel",
      "state": {
       "_dom_classes": [],
       "_model_module": "@jupyter-widgets/controls",
       "_model_module_version": "1.5.0",
       "_model_name": "HTMLModel",
       "_view_count": null,
       "_view_module": "@jupyter-widgets/controls",
       "_view_module_version": "1.5.0",
       "_view_name": "HTMLView",
       "description": "",
       "description_tooltip": null,
       "layout": "IPY_MODEL_44af1f24b15e43658d1d3d65ec7c2fd3",
       "placeholder": "​",
       "style": "IPY_MODEL_84c528dcf67c42adb130604b07c3af31",
       "value": " 189853/189853 [00:39&lt;00:00, 4674.13it/s]"
      }
     },
     "377c92d79a094f1ca9940f5a9497611a": {
      "model_module": "@jupyter-widgets/controls",
      "model_module_version": "1.5.0",
      "model_name": "FloatProgressModel",
      "state": {
       "_dom_classes": [],
       "_model_module": "@jupyter-widgets/controls",
       "_model_module_version": "1.5.0",
       "_model_name": "FloatProgressModel",
       "_view_count": null,
       "_view_module": "@jupyter-widgets/controls",
       "_view_module_version": "1.5.0",
       "_view_name": "ProgressView",
       "bar_style": "success",
       "description": "",
       "description_tooltip": null,
       "layout": "IPY_MODEL_17fff72db5fd40f4b7f5e1c83f0da220",
       "max": 189853.0,
       "min": 0.0,
       "orientation": "horizontal",
       "style": "IPY_MODEL_012715959852400ca415bd47e73ca3fd",
       "value": 189853.0
      }
     },
     "4059bb14eb9b4bf9962053d712525da8": {
      "model_module": "@jupyter-widgets/controls",
      "model_module_version": "1.5.0",
      "model_name": "HTMLModel",
      "state": {
       "_dom_classes": [],
       "_model_module": "@jupyter-widgets/controls",
       "_model_module_version": "1.5.0",
       "_model_name": "HTMLModel",
       "_view_count": null,
       "_view_module": "@jupyter-widgets/controls",
       "_view_module_version": "1.5.0",
       "_view_name": "HTMLView",
       "description": "",
       "description_tooltip": null,
       "layout": "IPY_MODEL_584e961e63b8453bbdc1e37b58f8e443",
       "placeholder": "​",
       "style": "IPY_MODEL_e505ab45c8e54da895b5dc9cde6f30e8",
       "value": "100%"
      }
     },
     "44af1f24b15e43658d1d3d65ec7c2fd3": {
      "model_module": "@jupyter-widgets/base",
      "model_module_version": "1.2.0",
      "model_name": "LayoutModel",
      "state": {
       "_model_module": "@jupyter-widgets/base",
       "_model_module_version": "1.2.0",
       "_model_name": "LayoutModel",
       "_view_count": null,
       "_view_module": "@jupyter-widgets/base",
       "_view_module_version": "1.2.0",
       "_view_name": "LayoutView",
       "align_content": null,
       "align_items": null,
       "align_self": null,
       "border": null,
       "bottom": null,
       "display": null,
       "flex": null,
       "flex_flow": null,
       "grid_area": null,
       "grid_auto_columns": null,
       "grid_auto_flow": null,
       "grid_auto_rows": null,
       "grid_column": null,
       "grid_gap": null,
       "grid_row": null,
       "grid_template_areas": null,
       "grid_template_columns": null,
       "grid_template_rows": null,
       "height": null,
       "justify_content": null,
       "justify_items": null,
       "left": null,
       "margin": null,
       "max_height": null,
       "max_width": null,
       "min_height": null,
       "min_width": null,
       "object_fit": null,
       "object_position": null,
       "order": null,
       "overflow": null,
       "overflow_x": null,
       "overflow_y": null,
       "padding": null,
       "right": null,
       "top": null,
       "visibility": null,
       "width": null
      }
     },
     "584e961e63b8453bbdc1e37b58f8e443": {
      "model_module": "@jupyter-widgets/base",
      "model_module_version": "1.2.0",
      "model_name": "LayoutModel",
      "state": {
       "_model_module": "@jupyter-widgets/base",
       "_model_module_version": "1.2.0",
       "_model_name": "LayoutModel",
       "_view_count": null,
       "_view_module": "@jupyter-widgets/base",
       "_view_module_version": "1.2.0",
       "_view_name": "LayoutView",
       "align_content": null,
       "align_items": null,
       "align_self": null,
       "border": null,
       "bottom": null,
       "display": null,
       "flex": null,
       "flex_flow": null,
       "grid_area": null,
       "grid_auto_columns": null,
       "grid_auto_flow": null,
       "grid_auto_rows": null,
       "grid_column": null,
       "grid_gap": null,
       "grid_row": null,
       "grid_template_areas": null,
       "grid_template_columns": null,
       "grid_template_rows": null,
       "height": null,
       "justify_content": null,
       "justify_items": null,
       "left": null,
       "margin": null,
       "max_height": null,
       "max_width": null,
       "min_height": null,
       "min_width": null,
       "object_fit": null,
       "object_position": null,
       "order": null,
       "overflow": null,
       "overflow_x": null,
       "overflow_y": null,
       "padding": null,
       "right": null,
       "top": null,
       "visibility": null,
       "width": null
      }
     },
     "84c528dcf67c42adb130604b07c3af31": {
      "model_module": "@jupyter-widgets/controls",
      "model_module_version": "1.5.0",
      "model_name": "DescriptionStyleModel",
      "state": {
       "_model_module": "@jupyter-widgets/controls",
       "_model_module_version": "1.5.0",
       "_model_name": "DescriptionStyleModel",
       "_view_count": null,
       "_view_module": "@jupyter-widgets/base",
       "_view_module_version": "1.2.0",
       "_view_name": "StyleView",
       "description_width": ""
      }
     },
     "e505ab45c8e54da895b5dc9cde6f30e8": {
      "model_module": "@jupyter-widgets/controls",
      "model_module_version": "1.5.0",
      "model_name": "DescriptionStyleModel",
      "state": {
       "_model_module": "@jupyter-widgets/controls",
       "_model_module_version": "1.5.0",
       "_model_name": "DescriptionStyleModel",
       "_view_count": null,
       "_view_module": "@jupyter-widgets/base",
       "_view_module_version": "1.2.0",
       "_view_name": "StyleView",
       "description_width": ""
      }
     }
    },
    "version_major": 2,
    "version_minor": 0
   }
  }
 },
 "nbformat": 4,
 "nbformat_minor": 5
}
